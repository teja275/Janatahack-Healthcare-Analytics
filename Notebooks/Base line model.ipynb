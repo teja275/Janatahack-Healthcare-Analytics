{
 "cells": [
  {
   "cell_type": "markdown",
   "metadata": {},
   "source": [
    "# 1. Import Libraries"
   ]
  },
  {
   "cell_type": "code",
   "execution_count": 1,
   "metadata": {},
   "outputs": [],
   "source": [
    "import pandas as pd\n",
    "import pandas.api.types as ptypes\n",
    "import numpy as np\n",
    "import seaborn as sns\n",
    "import matplotlib as mpl\n",
    "import matplotlib.pyplot as plt\n",
    "import warnings\n",
    "import math, os, shutil, datetime\n",
    "warnings.filterwarnings('ignore')\n",
    "mpl.rcParams['figure.dpi'] = 500\n",
    "pd.set_option('display.max_columns', 1000)\n",
    "%matplotlib inline"
   ]
  },
  {
   "cell_type": "markdown",
   "metadata": {},
   "source": [
    "# Problem Statement\n",
    "\n",
    "Congratulations – you have been hired as Chief Data Scientist of MedCamp – a not for profit organization dedicated in making health conditions for working professionals better. MedCamp was started because the founders saw their family suffer due to bad work life balance and neglected health.\n",
    "\n",
    "MedCamp organizes health camps in several cities with low work life balance. They reach out to working people and ask them to register for these health camps. For those who attend, MedCamp provides them facility to undergo health checks or increase awareness by visiting various stalls (depending on the format of camp).\n",
    "\n",
    "MedCamp has conducted 65 such events over a period of 4 years and they see a high drop off between “Registration” and Number of people taking tests at the Camps. In last 4 years, they have stored data of ~110,000 registrations they have done.\n",
    "\n",
    "One of the huge costs in arranging these camps is the amount of inventory you need to carry. If you carry more than required inventory, you incur unnecessarily high costs. On the other hand, if you carry less than required inventory for conducting these medical checks, people end up having bad experience.\n",
    "\n",
    "## Process\n",
    "\n",
    "- MedCamp employees / volunteers reach out to people and drive registrations.\n",
    "- During the camp, People who “ShowUp” either undergo the medical tests or visit stalls depending on the format of healthcamp.\n",
    "\n",
    "## Note \n",
    "\n",
    "- Since this is a completely voluntary activity for the working professionals, MedCamp usually has little profile information about these people.\n",
    "- For a few camps, there was hardware failure, so some information about date and time of registration is lost.\n",
    "- MedCamp runs 3 formats of these camps. The first and second format provides people with an instantaneous health score. The third format provides information about several health issues through various awareness stalls.\n",
    "\n",
    "## Favorable outcome:\n",
    "- For the first 2 formats, a favourable outcome is defined as getting a health_score, while in the third format it is defined as visiting at least a stall.\n",
    "- You need to predict the chances (probability) of having a favourable outcome."
   ]
  },
  {
   "cell_type": "markdown",
   "metadata": {},
   "source": [
    "# Data Description\n",
    "\n",
    "## Train Data\n",
    "train.zip contains 6 different csv files apart from the data dictionary as described below:\n",
    "\n",
    "**Health_Camp_Detail.csv** – File containing Health_Camp_Id, Camp_Start_Date, Camp_End_Date and Category details of each camp.\n",
    "\n",
    "**Train.csv** – File containing registration details for all the test camps. This includes Patient_ID, Health_Camp_ID, Registration_Date and a few anonymized variables as on registration date.\n",
    "\n",
    "**Patient_Profile.csv** – This file contains Patient profile details like Patient_ID, Online_Follower, Social media details, Income, Education, Age, First_Interaction_Date, City_Type and Employer_Category\n",
    "\n",
    "**First_Health_Camp_Attended.csv** – This file contains details about people who attended health camp of first format. This includes Donation (amount) & Health_Score of the person.\n",
    "\n",
    "**Second_Health_Camp_Attended.csv** - This file contains details about people who attended health camp of second format. This includes Health_Score of the person.\n",
    "\n",
    "**Third_Health_Camp_Attended.csv** - This file contains details about people who attended health camp of third format. This includes Number_of_stall_visited & Last_Stall_Visited_Number.\n",
    "\n",
    "## Test Data\n",
    "\n",
    "**Test.csv** – File containing registration details for all the camps done after 1st April 2006. This includes Patient_ID, Health_Camp_ID, Registration_Date and a few anonymized variables as on registration date. Participant should make predictions for these patient camp combinations\n",
    "\n",
    "## Submission File\n",
    "\n",
    "**sample_submission.csv**\n",
    "\n",
    "**Patient_ID**: Unique Identifier for each patient. This ID is not sequential in nature and can not be used in modeling\n",
    "\n",
    "**Health_Camp_ID**: Unique Identifier for each camp. This ID is not sequential in nature and can not be used in modeling\n",
    "\n",
    "**Outcome**: Predicted probability for having a favourable outcome depending on the format"
   ]
  },
  {
   "cell_type": "code",
   "execution_count": 2,
   "metadata": {},
   "outputs": [],
   "source": [
    "from sklearn.preprocessing import MinMaxScaler\n",
    "from sklearn.preprocessing import StandardScaler\n",
    "from sklearn.preprocessing import RobustScaler\n",
    "from sklearn.preprocessing import PowerTransformer\n",
    "from sklearn.preprocessing import FunctionTransformer"
   ]
  },
  {
   "cell_type": "code",
   "execution_count": 3,
   "metadata": {},
   "outputs": [],
   "source": [
    "from sklearn.tree import DecisionTreeClassifier\n",
    "from sklearn.ensemble import RandomForestClassifier\n",
    "from sklearn.ensemble import AdaBoostClassifier\n",
    "from sklearn.ensemble import GradientBoostingClassifier"
   ]
  },
  {
   "cell_type": "code",
   "execution_count": 4,
   "metadata": {},
   "outputs": [],
   "source": [
    "from sklearn.metrics import f1_score, auc, plot_confusion_matrix, plot_roc_curve, roc_auc_score"
   ]
  },
  {
   "cell_type": "code",
   "execution_count": 5,
   "metadata": {},
   "outputs": [],
   "source": [
    "from sklearn.model_selection import cross_val_score"
   ]
  },
  {
   "cell_type": "markdown",
   "metadata": {},
   "source": [
    "# Load Data"
   ]
  },
  {
   "cell_type": "code",
   "execution_count": 6,
   "metadata": {},
   "outputs": [],
   "source": [
    "train_data = pd.read_csv('../Data/Train/Train.csv')\n",
    "firstcamp_data = pd.read_csv('../Data/Train/First_Health_Camp_Attended.csv')\n",
    "secondcamp_data = pd.read_csv('../Data/Train/Second_Health_Camp_Attended.csv')\n",
    "thirdcamp_data = pd.read_csv('../Data/Train/Third_Health_Camp_Attended.csv')\n",
    "healthcamp_data = pd.read_csv('../Data/Train/Health_Camp_Detail.csv')\n",
    "patient_data = pd.read_csv('../Data/Train/Patient_Profile.csv')\n",
    "\n",
    "test_data = pd.read_csv('../Data/test_l0Auv8Q.csv')\n",
    "submission_data = pd.read_csv('../Data/sample_submmission.csv')"
   ]
  },
  {
   "cell_type": "markdown",
   "metadata": {},
   "source": [
    "# Data Cleaning"
   ]
  },
  {
   "cell_type": "code",
   "execution_count": 7,
   "metadata": {},
   "outputs": [],
   "source": [
    "train_final_data = pd.merge(train_data, firstcamp_data.drop('Unnamed: 4', axis=1), how='left', on=['Patient_ID', 'Health_Camp_ID'], indicator='camp1_merge_ind')\n",
    "train_final_data = pd.merge(train_final_data, secondcamp_data, how='left', on=['Patient_ID', 'Health_Camp_ID'], indicator='camp2_merge_ind')\n",
    "train_final_data = pd.merge(train_final_data, thirdcamp_data, how='left', on=['Patient_ID', 'Health_Camp_ID'], indicator='camp3_merge_ind')\n",
    "train_final_data = pd.merge(train_final_data, healthcamp_data, how='left', on='Health_Camp_ID', indicator='healthcamp_merge_ind')\n",
    "train_final_data = pd.merge(train_final_data, patient_data, how='left', on='Patient_ID', indicator='patient_merge_ind')"
   ]
  },
  {
   "cell_type": "code",
   "execution_count": 8,
   "metadata": {},
   "outputs": [],
   "source": [
    "train_final_data['Outcome'] = 0\n",
    "train_final_data.loc[(train_final_data['camp1_merge_ind']=='both') | \n",
    "                     (train_final_data['camp2_merge_ind']=='both') |\n",
    "                     ((train_final_data['camp3_merge_ind']=='both') & (train_final_data['Number_of_stall_visited']>0))\n",
    "                     ,'Outcome'] = 1"
   ]
  },
  {
   "cell_type": "code",
   "execution_count": 9,
   "metadata": {},
   "outputs": [],
   "source": [
    "test_final_data = pd.merge(test_data, firstcamp_data.drop('Unnamed: 4', axis=1), how='left', on=['Patient_ID', 'Health_Camp_ID'], indicator='camp1_merge_ind')\n",
    "test_final_data = pd.merge(test_final_data, secondcamp_data, how='left', on=['Patient_ID', 'Health_Camp_ID'], indicator='camp2_merge_ind')\n",
    "test_final_data = pd.merge(test_final_data, thirdcamp_data, how='left', on=['Patient_ID', 'Health_Camp_ID'], indicator='camp3_merge_ind')\n",
    "test_final_data = pd.merge(test_final_data, healthcamp_data, how='left', on='Health_Camp_ID', indicator='healthcamp_merge_ind')\n",
    "test_final_data = pd.merge(test_final_data, patient_data, how='left', on='Patient_ID', indicator='patient_merge_ind')"
   ]
  },
  {
   "cell_type": "code",
   "execution_count": 10,
   "metadata": {},
   "outputs": [],
   "source": [
    "date_cols = ['Registration_Date', 'Camp_Start_Date', 'Camp_End_Date', 'First_Interaction']"
   ]
  },
  {
   "cell_type": "code",
   "execution_count": 11,
   "metadata": {},
   "outputs": [],
   "source": [
    "def to_date(df):\n",
    "    for col in date_cols:\n",
    "        if col in df.columns:\n",
    "            df[col] = pd.to_datetime(df[col], format='%d-%b-%y')\n",
    "    return df"
   ]
  },
  {
   "cell_type": "code",
   "execution_count": 12,
   "metadata": {},
   "outputs": [],
   "source": [
    "train_final_data = to_date(train_final_data)\n",
    "test_final_data = to_date(test_final_data)"
   ]
  },
  {
   "cell_type": "code",
   "execution_count": 13,
   "metadata": {},
   "outputs": [],
   "source": [
    "num_cols = ['Income', 'Education_Score', 'Age']"
   ]
  },
  {
   "cell_type": "code",
   "execution_count": 14,
   "metadata": {},
   "outputs": [],
   "source": [
    "def to_numeric(df, columns):\n",
    "    for col in df.columns:\n",
    "        if (col in num_cols) & ~(ptypes.is_numeric_dtype(df[col])):\n",
    "            df[col] = df[col].replace({'None':''})\n",
    "            df[col] = pd.to_numeric(df[col], errors='coerce')\n",
    "    return df"
   ]
  },
  {
   "cell_type": "code",
   "execution_count": 15,
   "metadata": {},
   "outputs": [],
   "source": [
    "train_final_data = to_numeric(train_final_data, num_cols)\n",
    "test_final_data = to_numeric(test_final_data, num_cols)"
   ]
  },
  {
   "cell_type": "markdown",
   "metadata": {},
   "source": [
    "## Drop unnecessary columns"
   ]
  },
  {
   "cell_type": "code",
   "execution_count": 16,
   "metadata": {},
   "outputs": [],
   "source": [
    "unnec_cols = ['camp1_merge_ind', 'camp2_merge_ind', 'camp3_merge_ind', 'healthcamp_merge_ind', 'patient_merge_ind']"
   ]
  },
  {
   "cell_type": "code",
   "execution_count": 17,
   "metadata": {},
   "outputs": [],
   "source": [
    "train_final_data = train_final_data.drop(unnec_cols, axis=1)\n",
    "test_final_data = test_final_data.drop(unnec_cols, axis=1)"
   ]
  },
  {
   "cell_type": "markdown",
   "metadata": {},
   "source": [
    "## Missing Imputations"
   ]
  },
  {
   "cell_type": "code",
   "execution_count": 18,
   "metadata": {},
   "outputs": [],
   "source": [
    "from sklearn.impute import SimpleImputer"
   ]
  },
  {
   "cell_type": "markdown",
   "metadata": {},
   "source": [
    "### Mean Imputation"
   ]
  },
  {
   "cell_type": "code",
   "execution_count": 19,
   "metadata": {},
   "outputs": [],
   "source": [
    "mean_impute_cols = ['Age']\n",
    "imp_mean = SimpleImputer(strategy='mean')\n",
    "imp_mean.fit(train_final_data[mean_impute_cols])\n",
    "train_final_data[mean_impute_cols] = imp_mean.transform(train_final_data[mean_impute_cols])\n",
    "test_final_data[mean_impute_cols] = imp_mean.transform(test_final_data[mean_impute_cols])"
   ]
  },
  {
   "cell_type": "markdown",
   "metadata": {},
   "source": [
    "### Frequent Imputation"
   ]
  },
  {
   "cell_type": "code",
   "execution_count": 20,
   "metadata": {},
   "outputs": [],
   "source": [
    "freq_impute_cols = ['Income', 'Education_Score', 'City_Type', 'Employer_Category']\n",
    "imp_freq = SimpleImputer(strategy='most_frequent')\n",
    "imp_freq.fit(train_final_data[freq_impute_cols])\n",
    "train_final_data[freq_impute_cols] = imp_freq.transform(train_final_data[freq_impute_cols])\n",
    "test_final_data[freq_impute_cols] = imp_freq.transform(test_final_data[freq_impute_cols])"
   ]
  },
  {
   "cell_type": "markdown",
   "metadata": {},
   "source": [
    "### Zero Imputation"
   ]
  },
  {
   "cell_type": "code",
   "execution_count": 21,
   "metadata": {},
   "outputs": [],
   "source": [
    "zero_impute_cols = ['Donation', 'Health_Score', 'Health Score', 'Number_of_stall_visited', 'Last_Stall_Visited_Number']\n",
    "train_final_data[zero_impute_cols] = train_final_data[zero_impute_cols].fillna(0)\n",
    "test_final_data[zero_impute_cols] = test_final_data[zero_impute_cols].fillna(0)"
   ]
  },
  {
   "cell_type": "markdown",
   "metadata": {},
   "source": [
    "## Constants"
   ]
  },
  {
   "cell_type": "code",
   "execution_count": 22,
   "metadata": {},
   "outputs": [],
   "source": [
    "ID1 = 'Patient_ID'\n",
    "ID2 = 'Health_Camp_ID'\n",
    "target = 'Outcome'\n",
    "date_columns = ['Registration_Date', 'Camp_Start_Date', 'Camp_End_Date', 'First_Interaction']\n",
    "discrete_columns = ['Var1', 'Var2', 'Var3', 'Var4', 'Var5', 'Category1', 'Category2', 'Category3', 'Online_Follower', \n",
    "                   'LinkedIn_Shared', 'Twitter_Shared', 'Facebook_Shared', 'City_Type', 'Employer_Category']"
   ]
  },
  {
   "cell_type": "code",
   "execution_count": 23,
   "metadata": {},
   "outputs": [
    {
     "data": {
      "text/plain": [
       "Index(['Patient_ID', 'Health_Camp_ID', 'Registration_Date', 'Var1', 'Var2',\n",
       "       'Var3', 'Var4', 'Var5', 'Donation', 'Health_Score', 'Health Score',\n",
       "       'Number_of_stall_visited', 'Last_Stall_Visited_Number',\n",
       "       'Camp_Start_Date', 'Camp_End_Date', 'Category1', 'Category2',\n",
       "       'Category3', 'Online_Follower', 'LinkedIn_Shared', 'Twitter_Shared',\n",
       "       'Facebook_Shared', 'Income', 'Education_Score', 'Age',\n",
       "       'First_Interaction', 'City_Type', 'Employer_Category', 'Outcome'],\n",
       "      dtype='object')"
      ]
     },
     "execution_count": 23,
     "metadata": {},
     "output_type": "execute_result"
    }
   ],
   "source": [
    "train_final_data.columns"
   ]
  },
  {
   "cell_type": "code",
   "execution_count": 24,
   "metadata": {},
   "outputs": [],
   "source": [
    "random_state = 1234"
   ]
  },
  {
   "cell_type": "code",
   "execution_count": 25,
   "metadata": {},
   "outputs": [],
   "source": [
    "should_ohe = True\n",
    "should_scale = True"
   ]
  },
  {
   "cell_type": "markdown",
   "metadata": {},
   "source": [
    "## Scaling"
   ]
  },
  {
   "cell_type": "code",
   "execution_count": 26,
   "metadata": {},
   "outputs": [],
   "source": [
    "if should_scale:\n",
    "    for col in train_final_data.columns:\n",
    "        if (col != target) and (col != ID1) and (col != ID2) and (col not in date_columns) and (col not in discrete_columns):\n",
    "            mms = MinMaxScaler()\n",
    "            ss = StandardScaler()\n",
    "            rs = RobustScaler()\n",
    "            pt = PowerTransformer()\n",
    "            ft_log = FunctionTransformer(np.log)\n",
    "            \n",
    "            train_final_data[f\"{col}_MMS\"] = mms.fit_transform(train_final_data[[col]])\n",
    "            test_final_data[f\"{col}_MMS\"] = mms.transform(test_final_data[[col]])\n",
    "            \n",
    "            train_final_data[f\"{col}_SS\"] = ss.fit_transform(train_final_data[[col]])\n",
    "            test_final_data[f\"{col}_SS\"] = ss.transform(test_final_data[[col]])\n",
    "            \n",
    "            train_final_data[f\"{col}_RS\"] = rs.fit_transform(train_final_data[[col]])\n",
    "            test_final_data[f\"{col}_RS\"] = rs.transform(test_final_data[[col]])\n",
    "            \n",
    "            train_final_data[f\"{col}_PT\"] = pt.fit_transform(train_final_data[[col]])\n",
    "            test_final_data[f\"{col}_PT\"] = pt.transform(test_final_data[[col]])\n",
    "            \n",
    "#             train_final_data[f\"{col}_FT_log\"] = ft_log.fit_transform(train_final_data[[col]])\n",
    "#             test_final_data[f\"{col}_FT_log\"] = ft_log.transform(test_final_data[[col]])"
   ]
  },
  {
   "cell_type": "markdown",
   "metadata": {},
   "source": [
    "## One hot encoding"
   ]
  },
  {
   "cell_type": "code",
   "execution_count": 27,
   "metadata": {},
   "outputs": [],
   "source": [
    "train_final_data['is_train'] = True\n",
    "test_final_data['is_train'] = False"
   ]
  },
  {
   "cell_type": "code",
   "execution_count": 28,
   "metadata": {},
   "outputs": [],
   "source": [
    "cols_for_ohe = ['Category1', 'Category2', 'City_Type', 'Employer_Category']"
   ]
  },
  {
   "cell_type": "code",
   "execution_count": 29,
   "metadata": {},
   "outputs": [],
   "source": [
    "train_final_data = pd.concat([train_final_data.drop(cols_for_ohe,axis=1),pd.get_dummies(train_final_data[cols_for_ohe])],axis=1)\n",
    "test_final_data = pd.concat([test_final_data.drop(cols_for_ohe,axis=1),pd.get_dummies(test_final_data[cols_for_ohe])],axis=1)"
   ]
  },
  {
   "cell_type": "markdown",
   "metadata": {},
   "source": [
    "# Test Train Split"
   ]
  },
  {
   "cell_type": "code",
   "execution_count": 30,
   "metadata": {},
   "outputs": [],
   "source": [
    "from sklearn.model_selection import train_test_split"
   ]
  },
  {
   "cell_type": "code",
   "execution_count": 32,
   "metadata": {},
   "outputs": [],
   "source": [
    "ignore_cols_train = [ID1, ID2, target, 'Registration_Date', 'Camp_Start_Date', 'Camp_End_Date', 'First_Interaction']\n",
    "ignore_cols_test = [ID1, ID2, 'Registration_Date', 'Camp_Start_Date', 'Camp_End_Date', 'First_Interaction']\n",
    "X, y = train_final_data.drop(ignore_cols_train, axis=1), train_final_data[target]\n",
    "X_test = test_final_data.drop(ignore_cols_test, axis=1)"
   ]
  },
  {
   "cell_type": "code",
   "execution_count": 33,
   "metadata": {},
   "outputs": [
    {
     "data": {
      "text/plain": [
       "0"
      ]
     },
     "execution_count": 33,
     "metadata": {},
     "output_type": "execute_result"
    }
   ],
   "source": [
    "sum(X_test.isna().sum())"
   ]
  },
  {
   "cell_type": "code",
   "execution_count": 34,
   "metadata": {},
   "outputs": [],
   "source": [
    "X_train, X_val, y_train, y_val = train_test_split(X, y, test_size=0.30, random_state=random_state)"
   ]
  },
  {
   "cell_type": "markdown",
   "metadata": {},
   "source": [
    "# Base Models"
   ]
  },
  {
   "cell_type": "code",
   "execution_count": 35,
   "metadata": {},
   "outputs": [],
   "source": [
    "n_esitmators = 1000\n",
    "classifiers = {\n",
    "    \"DT\": DecisionTreeClassifier(),\n",
    "    \"RF\": RandomForestClassifier(n_estimators=n_esitmators, random_state=random_state),\n",
    "    \"GBM\": GradientBoostingClassifier(n_estimators=n_esitmators, random_state=random_state),\n",
    "    \"GBM_ES\": GradientBoostingClassifier(n_estimators=n_esitmators, validation_fraction=0.2, \n",
    "                                         n_iter_no_change=5,tol=0.01,random_state=random_state)\n",
    "}"
   ]
  },
  {
   "cell_type": "code",
   "execution_count": 36,
   "metadata": {},
   "outputs": [
    {
     "data": {
      "text/plain": [
       "dict_items([('DT', DecisionTreeClassifier()), ('RF', RandomForestClassifier(n_estimators=1000, random_state=1234)), ('GBM', GradientBoostingClassifier(n_estimators=1000, random_state=1234)), ('GBM_ES', GradientBoostingClassifier(n_estimators=1000, n_iter_no_change=5,\n",
       "                           random_state=1234, tol=0.01,\n",
       "                           validation_fraction=0.2))])"
      ]
     },
     "execution_count": 36,
     "metadata": {},
     "output_type": "execute_result"
    }
   ],
   "source": [
    "classifiers.items()"
   ]
  },
  {
   "cell_type": "code",
   "execution_count": 37,
   "metadata": {},
   "outputs": [
    {
     "name": "stdout",
     "output_type": "stream",
     "text": [
      "1 Building DT starts..\n",
      "\t Mean ROC AUC: 1.0 +/- 0.0\n",
      "\t ROC AUC: 1.0\n",
      "It took 0:00:04.323908 time to finish the modelling\n",
      "1 Building DT starts..\n",
      "2 Building RF starts..\n",
      "\t Mean ROC AUC: 1.0 +/- 4.965068306494546e-17\n",
      "\t ROC AUC: 1.0\n",
      "It took 0:01:27.526565 time to finish the modelling\n",
      "2 Building RF starts..\n",
      "3 Building GBM starts..\n",
      "\t Mean ROC AUC: 1.0 +/- 0.0\n",
      "\t ROC AUC: 1.0\n",
      "It took 0:08:06.246064 time to finish the modelling\n",
      "3 Building GBM starts..\n",
      "4 Building GBM_ES starts..\n",
      "\t Mean ROC AUC: 1.0 +/- 0.0\n",
      "\t ROC AUC: 1.0\n",
      "It took 0:00:41.029583 time to finish the modelling\n",
      "4 Building GBM_ES starts..\n"
     ]
    },
    {
     "data": {
      "image/png": "[encoded data removed]",
      "text/plain": [
       "<Figure size 864x504 with 2 Axes>"
      ]
     },
     "metadata": {
      "needs_background": "light"
     },
     "output_type": "display_data"
    },
    {
     "data": {
      "image/png": "[encoded data removed]",
      "text/plain": [
       "<Figure size 864x504 with 2 Axes>"
      ]
     },
     "metadata": {
      "needs_background": "light"
     },
     "output_type": "display_data"
    },
    {
     "data": {
      "image/png": "[encoded data removed]",
      "text/plain": [
       "<Figure size 864x504 with 2 Axes>"
      ]
     },
     "metadata": {
      "needs_background": "light"
     },
     "output_type": "display_data"
    },
    {
     "data": {
      "image/png": "[encoded data removed]",
      "text/plain": [
       "<Figure size 864x504 with 2 Axes>"
      ]
     },
     "metadata": {
      "needs_background": "light"
     },
     "output_type": "display_data"
    }
   ],
   "source": [
    "clf_ct=0\n",
    "for model_name,clf in classifiers.items():\n",
    "    print(f\"{clf_ct+1} Building {model_name} starts..\")\n",
    "    start_ts = datetime.datetime.now()\n",
    "    \n",
    "    cv_scores = cross_val_score(clf, X_train, y_train, scoring='roc_auc', cv=5)\n",
    "    print(f\"\\t Mean ROC AUC: {np.mean(cv_scores)} +/- {np.std(cv_scores)}\")\n",
    "    \n",
    "    clf.fit(X_train, y_train)\n",
    "    predictions = clf.predict(X_val)\n",
    "    auc_score = roc_auc_score(y_val, predictions)\n",
    "    print(f\"\\t ROC AUC: {auc_score}\")\n",
    "    \n",
    "    fig = plt.figure(figsize=(12,7))\n",
    "    ax = fig.add_subplot(111)\n",
    "    disp = plot_confusion_matrix(clf, X_val, y_val, normalize='true', ax=ax, cmap=plt.cm.Blues)\n",
    "    disp.ax_.set_title(f\"Confustion Matrix for model: {model_name}\")\n",
    "    os.makedirs(\"../plots/confusion_matrix_scale_ohe\",exist_ok=True)\n",
    "    plt.savefig(f\"../plots/confusion_matrix_scale_ohe/{model_name}.png\", dpi=300)\n",
    "    end_ts = datetime.datetime.now()\n",
    "    \n",
    "    print(f\"It took {end_ts - start_ts} time to finish the modelling\")\n",
    "    print(f\"{clf_ct+1} Building {model_name} starts..\")\n",
    "    \n",
    "    clf_ct+=1\n",
    "    "
   ]
  },
  {
   "cell_type": "code",
   "execution_count": 38,
   "metadata": {},
   "outputs": [
    {
     "data": {
      "text/plain": [
       "334"
      ]
     },
     "execution_count": 38,
     "metadata": {},
     "output_type": "execute_result"
    }
   ],
   "source": [
    "sum(train_final_data.isna().sum())"
   ]
  },
  {
   "cell_type": "code",
   "execution_count": 42,
   "metadata": {},
   "outputs": [],
   "source": [
    "var_imp = pd.DataFrame({'var':X.columns, 'var_imp':classifiers['GBM'].feature_importances_})"
   ]
  },
  {
   "cell_type": "code",
   "execution_count": 45,
   "metadata": {},
   "outputs": [
    {
     "data": {
      "text/html": [
       "<div>\n",
       "<style scoped>\n",
       "    .dataframe tbody tr th:only-of-type {\n",
       "        vertical-align: middle;\n",
       "    }\n",
       "\n",
       "    .dataframe tbody tr th {\n",
       "        vertical-align: top;\n",
       "    }\n",
       "\n",
       "    .dataframe thead th {\n",
       "        text-align: right;\n",
       "    }\n",
       "</style>\n",
       "<table border=\"1\" class=\"dataframe\">\n",
       "  <thead>\n",
       "    <tr style=\"text-align: right;\">\n",
       "      <th></th>\n",
       "      <th>var</th>\n",
       "      <th>var_imp</th>\n",
       "    </tr>\n",
       "  </thead>\n",
       "  <tbody>\n",
       "    <tr>\n",
       "      <th>26</th>\n",
       "      <td>Health Score_MMS</td>\n",
       "      <td>1.067444e-01</td>\n",
       "    </tr>\n",
       "    <tr>\n",
       "      <th>27</th>\n",
       "      <td>Health Score_SS</td>\n",
       "      <td>1.023807e-01</td>\n",
       "    </tr>\n",
       "    <tr>\n",
       "      <th>8</th>\n",
       "      <td>Number_of_stall_visited</td>\n",
       "      <td>7.970635e-02</td>\n",
       "    </tr>\n",
       "    <tr>\n",
       "      <th>23</th>\n",
       "      <td>Health_Score_SS</td>\n",
       "      <td>7.574836e-02</td>\n",
       "    </tr>\n",
       "    <tr>\n",
       "      <th>18</th>\n",
       "      <td>Donation_MMS</td>\n",
       "      <td>7.558934e-02</td>\n",
       "    </tr>\n",
       "    <tr>\n",
       "      <th>35</th>\n",
       "      <td>Last_Stall_Visited_Number_SS</td>\n",
       "      <td>7.409523e-02</td>\n",
       "    </tr>\n",
       "    <tr>\n",
       "      <th>28</th>\n",
       "      <td>Health Score_RS</td>\n",
       "      <td>7.290320e-02</td>\n",
       "    </tr>\n",
       "    <tr>\n",
       "      <th>5</th>\n",
       "      <td>Donation</td>\n",
       "      <td>6.664203e-02</td>\n",
       "    </tr>\n",
       "    <tr>\n",
       "      <th>31</th>\n",
       "      <td>Number_of_stall_visited_SS</td>\n",
       "      <td>4.715563e-02</td>\n",
       "    </tr>\n",
       "    <tr>\n",
       "      <th>19</th>\n",
       "      <td>Donation_SS</td>\n",
       "      <td>4.256818e-02</td>\n",
       "    </tr>\n",
       "    <tr>\n",
       "      <th>34</th>\n",
       "      <td>Last_Stall_Visited_Number_MMS</td>\n",
       "      <td>4.096016e-02</td>\n",
       "    </tr>\n",
       "    <tr>\n",
       "      <th>25</th>\n",
       "      <td>Health_Score_PT</td>\n",
       "      <td>3.513481e-02</td>\n",
       "    </tr>\n",
       "    <tr>\n",
       "      <th>6</th>\n",
       "      <td>Health_Score</td>\n",
       "      <td>2.889222e-02</td>\n",
       "    </tr>\n",
       "    <tr>\n",
       "      <th>30</th>\n",
       "      <td>Number_of_stall_visited_MMS</td>\n",
       "      <td>2.575892e-02</td>\n",
       "    </tr>\n",
       "    <tr>\n",
       "      <th>22</th>\n",
       "      <td>Health_Score_MMS</td>\n",
       "      <td>1.997370e-02</td>\n",
       "    </tr>\n",
       "    <tr>\n",
       "      <th>7</th>\n",
       "      <td>Health Score</td>\n",
       "      <td>1.831892e-02</td>\n",
       "    </tr>\n",
       "    <tr>\n",
       "      <th>32</th>\n",
       "      <td>Number_of_stall_visited_RS</td>\n",
       "      <td>1.788618e-02</td>\n",
       "    </tr>\n",
       "    <tr>\n",
       "      <th>36</th>\n",
       "      <td>Last_Stall_Visited_Number_RS</td>\n",
       "      <td>1.436856e-02</td>\n",
       "    </tr>\n",
       "    <tr>\n",
       "      <th>24</th>\n",
       "      <td>Health_Score_RS</td>\n",
       "      <td>1.315697e-02</td>\n",
       "    </tr>\n",
       "    <tr>\n",
       "      <th>29</th>\n",
       "      <td>Health Score_PT</td>\n",
       "      <td>1.189220e-02</td>\n",
       "    </tr>\n",
       "    <tr>\n",
       "      <th>33</th>\n",
       "      <td>Number_of_stall_visited_PT</td>\n",
       "      <td>1.053540e-02</td>\n",
       "    </tr>\n",
       "    <tr>\n",
       "      <th>20</th>\n",
       "      <td>Donation_RS</td>\n",
       "      <td>8.453189e-03</td>\n",
       "    </tr>\n",
       "    <tr>\n",
       "      <th>37</th>\n",
       "      <td>Last_Stall_Visited_Number_PT</td>\n",
       "      <td>5.476454e-03</td>\n",
       "    </tr>\n",
       "    <tr>\n",
       "      <th>21</th>\n",
       "      <td>Donation_PT</td>\n",
       "      <td>4.963971e-03</td>\n",
       "    </tr>\n",
       "    <tr>\n",
       "      <th>9</th>\n",
       "      <td>Last_Stall_Visited_Number</td>\n",
       "      <td>6.949552e-04</td>\n",
       "    </tr>\n",
       "    <tr>\n",
       "      <th>45</th>\n",
       "      <td>Education_Score_PT</td>\n",
       "      <td>1.683691e-13</td>\n",
       "    </tr>\n",
       "    <tr>\n",
       "      <th>54</th>\n",
       "      <td>Category2_A</td>\n",
       "      <td>1.249503e-14</td>\n",
       "    </tr>\n",
       "    <tr>\n",
       "      <th>79</th>\n",
       "      <td>Employer_Category_Retail</td>\n",
       "      <td>9.380778e-15</td>\n",
       "    </tr>\n",
       "    <tr>\n",
       "      <th>66</th>\n",
       "      <td>City_Type_F</td>\n",
       "      <td>6.112481e-15</td>\n",
       "    </tr>\n",
       "    <tr>\n",
       "      <th>43</th>\n",
       "      <td>Education_Score_SS</td>\n",
       "      <td>2.291227e-15</td>\n",
       "    </tr>\n",
       "  </tbody>\n",
       "</table>\n",
       "</div>"
      ],
      "text/plain": [
       "                              var       var_imp\n",
       "26               Health Score_MMS  1.067444e-01\n",
       "27                Health Score_SS  1.023807e-01\n",
       "8         Number_of_stall_visited  7.970635e-02\n",
       "23                Health_Score_SS  7.574836e-02\n",
       "18                   Donation_MMS  7.558934e-02\n",
       "35   Last_Stall_Visited_Number_SS  7.409523e-02\n",
       "28                Health Score_RS  7.290320e-02\n",
       "5                        Donation  6.664203e-02\n",
       "31     Number_of_stall_visited_SS  4.715563e-02\n",
       "19                    Donation_SS  4.256818e-02\n",
       "34  Last_Stall_Visited_Number_MMS  4.096016e-02\n",
       "25                Health_Score_PT  3.513481e-02\n",
       "6                    Health_Score  2.889222e-02\n",
       "30    Number_of_stall_visited_MMS  2.575892e-02\n",
       "22               Health_Score_MMS  1.997370e-02\n",
       "7                    Health Score  1.831892e-02\n",
       "32     Number_of_stall_visited_RS  1.788618e-02\n",
       "36   Last_Stall_Visited_Number_RS  1.436856e-02\n",
       "24                Health_Score_RS  1.315697e-02\n",
       "29                Health Score_PT  1.189220e-02\n",
       "33     Number_of_stall_visited_PT  1.053540e-02\n",
       "20                    Donation_RS  8.453189e-03\n",
       "37   Last_Stall_Visited_Number_PT  5.476454e-03\n",
       "21                    Donation_PT  4.963971e-03\n",
       "9       Last_Stall_Visited_Number  6.949552e-04\n",
       "45             Education_Score_PT  1.683691e-13\n",
       "54                    Category2_A  1.249503e-14\n",
       "79       Employer_Category_Retail  9.380778e-15\n",
       "66                    City_Type_F  6.112481e-15\n",
       "43             Education_Score_SS  2.291227e-15"
      ]
     },
     "execution_count": 45,
     "metadata": {},
     "output_type": "execute_result"
    }
   ],
   "source": [
    "var_imp.sort_values('var_imp', ascending=False).head(30)"
   ]
  },
  {
   "cell_type": "code",
   "execution_count": 40,
   "metadata": {},
   "outputs": [
    {
     "data": {
      "text/plain": [
       "Index(['Var1', 'Var2', 'Var3', 'Var4', 'Var5', 'Donation', 'Health_Score',\n",
       "       'Health Score', 'Number_of_stall_visited', 'Last_Stall_Visited_Number',\n",
       "       'Category3', 'Online_Follower', 'LinkedIn_Shared', 'Twitter_Shared',\n",
       "       'Facebook_Shared', 'Income', 'Education_Score', 'Age', 'Donation_MMS',\n",
       "       'Donation_SS', 'Donation_RS', 'Donation_PT', 'Health_Score_MMS',\n",
       "       'Health_Score_SS', 'Health_Score_RS', 'Health_Score_PT',\n",
       "       'Health Score_MMS', 'Health Score_SS', 'Health Score_RS',\n",
       "       'Health Score_PT', 'Number_of_stall_visited_MMS',\n",
       "       'Number_of_stall_visited_SS', 'Number_of_stall_visited_RS',\n",
       "       'Number_of_stall_visited_PT', 'Last_Stall_Visited_Number_MMS',\n",
       "       'Last_Stall_Visited_Number_SS', 'Last_Stall_Visited_Number_RS',\n",
       "       'Last_Stall_Visited_Number_PT', 'Income_MMS', 'Income_SS', 'Income_RS',\n",
       "       'Income_PT', 'Education_Score_MMS', 'Education_Score_SS',\n",
       "       'Education_Score_RS', 'Education_Score_PT', 'Age_MMS', 'Age_SS',\n",
       "       'Age_RS', 'Age_PT', 'is_train', 'Category1_First', 'Category1_Second',\n",
       "       'Category1_Third', 'Category2_A', 'Category2_B', 'Category2_C',\n",
       "       'Category2_D', 'Category2_E', 'Category2_F', 'Category2_G',\n",
       "       'City_Type_A', 'City_Type_B', 'City_Type_C', 'City_Type_D',\n",
       "       'City_Type_E', 'City_Type_F', 'City_Type_G', 'City_Type_H',\n",
       "       'City_Type_I', 'Employer_Category_BFSI',\n",
       "       'Employer_Category_Broadcasting', 'Employer_Category_Consulting',\n",
       "       'Employer_Category_Education', 'Employer_Category_Food',\n",
       "       'Employer_Category_Health', 'Employer_Category_Manufacturing',\n",
       "       'Employer_Category_Others', 'Employer_Category_Real Estate',\n",
       "       'Employer_Category_Retail', 'Employer_Category_Software Industry',\n",
       "       'Employer_Category_Technology', 'Employer_Category_Telecom',\n",
       "       'Employer_Category_Transport'],\n",
       "      dtype='object')"
      ]
     },
     "execution_count": 40,
     "metadata": {},
     "output_type": "execute_result"
    }
   ],
   "source": [
    "X.columns"
   ]
  },
  {
   "cell_type": "code",
   "execution_count": null,
   "metadata": {},
   "outputs": [],
   "source": []
  }
 ],
 "metadata": {
  "kernelspec": {
   "display_name": "Python 3",
   "language": "python",
   "name": "python3"
  },
  "language_info": {
   "codemirror_mode": {
    "name": "ipython",
    "version": 3
   },
   "file_extension": ".py",
   "mimetype": "text/x-python",
   "name": "python",
   "nbconvert_exporter": "python",
   "pygments_lexer": "ipython3",
   "version": "3.8.3"
  }
 },
 "nbformat": 4,
 "nbformat_minor": 4
}
