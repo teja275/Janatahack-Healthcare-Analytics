{
 "cells": [
  {
   "cell_type": "markdown",
   "metadata": {},
   "source": [
    "# Import Libraries"
   ]
  },
  {
   "cell_type": "code",
   "execution_count": 1,
   "metadata": {},
   "outputs": [],
   "source": [
    "import pandas as pd\n",
    "import numpy as np\n",
    "import seaborn as sns\n",
    "import matplotlib.pyplot as plt\n",
    "%matplotlib inline\n",
    "import math, os, shutil"
   ]
  },
  {
   "cell_type": "markdown",
   "metadata": {},
   "source": [
    "# Problem Statement\n",
    "\n",
    "Congratulations – you have been hired as Chief Data Scientist of MedCamp – a not for profit organization dedicated in making health conditions for working professionals better. MedCamp was started because the founders saw their family suffer due to bad work life balance and neglected health.\n",
    "\n",
    "MedCamp organizes health camps in several cities with low work life balance. They reach out to working people and ask them to register for these health camps. For those who attend, MedCamp provides them facility to undergo health checks or increase awareness by visiting various stalls (depending on the format of camp).\n",
    "\n",
    "MedCamp has conducted 65 such events over a period of 4 years and they see a high drop off between “Registration” and Number of people taking tests at the Camps. In last 4 years, they have stored data of ~110,000 registrations they have done.\n",
    "\n",
    "One of the huge costs in arranging these camps is the amount of inventory you need to carry. If you carry more than required inventory, you incur unnecessarily high costs. On the other hand, if you carry less than required inventory for conducting these medical checks, people end up having bad experience.\n",
    "\n",
    "## Process\n",
    "\n",
    "- MedCamp employees / volunteers reach out to people and drive registrations.\n",
    "- During the camp, People who “ShowUp” either undergo the medical tests or visit stalls depending on the format of healthcamp.\n",
    "\n",
    "## Note \n",
    "\n",
    "- Since this is a completely voluntary activity for the working professionals, MedCamp usually has little profile information about these people.\n",
    "- For a few camps, there was hardware failure, so some information about date and time of registration is lost.\n",
    "- MedCamp runs 3 formats of these camps. The first and second format provides people with an instantaneous health score. The third format provides information about several health issues through various awareness stalls.\n",
    "\n",
    "## Favorable outcome:\n",
    "- For the first 2 formats, a favourable outcome is defined as getting a health_score, while in the third format it is defined as visiting at least a stall.\n",
    "- You need to predict the chances (probability) of having a favourable outcome."
   ]
  },
  {
   "cell_type": "markdown",
   "metadata": {},
   "source": [
    "# Import Data"
   ]
  },
  {
   "cell_type": "code",
   "execution_count": 2,
   "metadata": {},
   "outputs": [],
   "source": [
    "train_firstcamp = pd.read_csv('../Data/Train/First_Health_Camp_Attended.csv')\n",
    "train_secondcamp = pd.read_csv('../Data/Train/Second_Health_Camp_Attended.csv')\n",
    "train_thirdcamp = pd.read_csv('../Data/Train/Third_Health_Camp_Attended.csv')\n",
    "train_healthcamp = pd.read_csv('../Data/Train/Health_Camp_Detail.csv')\n",
    "train_patient = pd.read_csv('../Data/Train/Patient_Profile.csv')\n",
    "\n",
    "test_data = pd.read_csv('../Data/test_l0Auv8Q.csv')\n",
    "submission_data = pd.read_csv('../Data/sample_submmission.csv')"
   ]
  },
  {
   "cell_type": "markdown",
   "metadata": {},
   "source": [
    "# Data Description\n",
    "\n",
    "## Train Data\n",
    "train.zip contains 6 different csv files apart from the data dictionary as described below:\n",
    "\n",
    "**Health_Camp_Detail.csv** – File containing Health_Camp_Id, Camp_Start_Date, Camp_End_Date and Category details of each camp.\n",
    "\n",
    "**Train.csv** – File containing registration details for all the test camps. This includes Patient_ID, Health_Camp_ID, Registration_Date and a few anonymized variables as on registration date.\n",
    "\n",
    "**Patient_Profile.csv** – This file contains Patient profile details like Patient_ID, Online_Follower, Social media details, Income, Education, Age, First_Interaction_Date, City_Type and Employer_Category\n",
    "\n",
    "**First_Health_Camp_Attended.csv** – This file contains details about people who attended health camp of first format. This includes Donation (amount) & Health_Score of the person.\n",
    "\n",
    "**Second_Health_Camp_Attended.csv** - This file contains details about people who attended health camp of second format. This includes Health_Score of the person.\n",
    "\n",
    "**Third_Health_Camp_Attended.csv** - This file contains details about people who attended health camp of third format. This includes Number_of_stall_visited & Last_Stall_Visited_Number.\n",
    "\n",
    "## Test Data\n",
    "\n",
    "**Test.csv** – File containing registration details for all the camps done after 1st April 2006. This includes Patient_ID, Health_Camp_ID, Registration_Date and a few anonymized variables as on registration date. Participant should make predictions for these patient camp combinations\n",
    "\n",
    "## Submission File\n",
    "\n",
    "**sample_submission.csv**\n",
    "\n",
    "**Patient_ID**: Unique Identifier for each patient. This ID is not sequential in nature and can not be used in modeling\n",
    "\n",
    "**Health_Camp_ID**: Unique Identifier for each camp. This ID is not sequential in nature and can not be used in modeling\n",
    "\n",
    "**Outcome**: Predicted probability for having a favourable outcome depending on the format"
   ]
  },
  {
   "cell_type": "code",
   "execution_count": 5,
   "metadata": {},
   "outputs": [
    {
     "name": "stdout",
     "output_type": "stream",
     "text": [
      "Train first camp data has 6218 rows & 5 columns\n",
      "Train second camp data has 7819 rows & 3 columns\n",
      "Train third camp data has 6515 rows & 4 columns\n",
      "Train health camp data has 65 rows & 6 columns\n",
      "Train patient profile data has 37633 rows & 11 columns\n",
      "Test data has 35249 rows & 8 columns\n",
      "Submission data has 35249 rows & 3 columns\n"
     ]
    }
   ],
   "source": [
    "print(f'Train first camp data has {train_firstcamp.shape[0]} rows & {train_firstcamp.shape[1]} columns')\n",
    "print(f'Train second camp data has {train_secondcamp.shape[0]} rows & {train_secondcamp.shape[1]} columns')\n",
    "print(f'Train third camp data has {train_thirdcamp.shape[0]} rows & {train_thirdcamp.shape[1]} columns')\n",
    "print(f'Train health camp data has {train_healthcamp.shape[0]} rows & {train_healthcamp.shape[1]} columns')\n",
    "print(f'Train patient profile data has {train_patient.shape[0]} rows & {train_patient.shape[1]} columns')\n",
    "print(f'Test data has {test_data.shape[0]} rows & {test_data.shape[1]} columns')\n",
    "print(f'Submission data has {submission_data.shape[0]} rows & {submission_data.shape[1]} columns')"
   ]
  },
  {
   "cell_type": "code",
   "execution_count": null,
   "metadata": {},
   "outputs": [],
   "source": []
  }
 ],
 "metadata": {
  "kernelspec": {
   "display_name": "Python 3",
   "language": "python",
   "name": "python3"
  },
  "language_info": {
   "codemirror_mode": {
    "name": "ipython",
    "version": 3
   },
   "file_extension": ".py",
   "mimetype": "text/x-python",
   "name": "python",
   "nbconvert_exporter": "python",
   "pygments_lexer": "ipython3",
   "version": "3.8.3"
  }
 },
 "nbformat": 4,
 "nbformat_minor": 4
}
